{
 "cells": [
  {
   "cell_type": "code",
   "execution_count": 1,
   "metadata": {
    "collapsed": true
   },
   "outputs": [],
   "source": [
    "import re\n",
    "import copy\n",
    "from datetime import datetime\n",
    "from pymongo import MongoClient\n",
    "import pandas as pd\n",
    "import pickle"
   ]
  },
  {
   "cell_type": "markdown",
   "metadata": {},
   "source": [
    "Load Data for Finding News with Issue"
   ]
  },
  {
   "cell_type": "code",
   "execution_count": 3,
   "metadata": {},
   "outputs": [
    {
     "name": "stdout",
     "output_type": "stream",
     "text": [
      "1011\n"
     ]
    }
   ],
   "source": [
    "### 載入MongoDB裡面的新聞\n",
    "client = MongoClient(\"mongodb://10.120.37.108:27017\")\n",
    "db = client[\"news_all\"]\n",
    "collection = db[\"news_data\"]        \n",
    "news_list_temp = collection.find({}) \n",
    "news_list = list(news_list_temp)\n",
    "\n",
    "## 載入ValidateNews\n",
    "client = MongoClient(\"mongodb://192.168.87.135:27017\")\n",
    "db = client[\"news\"]\n",
    "collection = db[\"ValidationPure\"]\n",
    "news_list_temp_V = collection.find({}) \n",
    "news_list_V = list(news_list_temp_V)"
   ]
  },
  {
   "cell_type": "markdown",
   "metadata": {},
   "source": [
    "Process Data"
   ]
  },
  {
   "cell_type": "code",
   "execution_count": 9,
   "metadata": {
    "collapsed": true
   },
   "outputs": [],
   "source": [
    "# Training Data Process\n",
    "news_list = pd.DataFrame(news_list)\n",
    "news_content = list(news_list[\"content\"])\n",
    "news_content_filtered = []\n",
    "for i in news_content:\n",
    "    yesno = bool(re.match(\".*昨.*\",i[:100]))\n",
    "    news_content_filtered.append(yesno)\n",
    "news_list[\"deter\"] = news_content_filtered\n",
    "news_list_True = news_list[(news_list.deter == True)]"
   ]
  },
  {
   "cell_type": "code",
   "execution_count": null,
   "metadata": {
    "collapsed": true
   },
   "outputs": [],
   "source": [
    "# Validation\n",
    "news_list_V = pd.DataFrame(news_list_V)\n",
    "news_content_V = list(news_list_V[\"content\"])\n",
    "news_content_filtered_V = []\n",
    "for i in news_content_V:\n",
    "    yesno = bool(re.match(\".*昨.*\",i[:100]))\n",
    "    news_content_filtered_V.append(yesno)\n",
    "news_list_V[\"deter\"] = news_content_filtered_V\n",
    "news_list_True_V = news_list_V[(news_list_V.deter == True)]\n",
    "\n"
   ]
  },
  {
   "cell_type": "markdown",
   "metadata": {},
   "source": [
    "Save Data"
   ]
  },
  {
   "cell_type": "code",
   "execution_count": 16,
   "metadata": {
    "collapsed": true
   },
   "outputs": [],
   "source": [
    "with open(\"news_all_with_event\",'wb') as f:\n",
    "    pickle.dump(news_list_True,f)\n",
    "    "
   ]
  },
  {
   "cell_type": "code",
   "execution_count": 14,
   "metadata": {
    "collapsed": true
   },
   "outputs": [],
   "source": [
    "with open(\"valid_news_all_with_event\",'wb') as f:\n",
    "    pickle.dump(news_list_True_V,f)"
   ]
  },
  {
   "cell_type": "code",
   "execution_count": null,
   "metadata": {
    "collapsed": true
   },
   "outputs": [],
   "source": []
  }
 ],
 "metadata": {
  "kernelspec": {
   "display_name": "Python 3",
   "language": "python",
   "name": "python3"
  },
  "language_info": {
   "codemirror_mode": {
    "name": "ipython",
    "version": 3
   },
   "file_extension": ".py",
   "mimetype": "text/x-python",
   "name": "python",
   "nbconvert_exporter": "python",
   "pygments_lexer": "ipython3",
   "version": "3.6.3"
  }
 },
 "nbformat": 4,
 "nbformat_minor": 2
}
